{
 "cells": [
  {
   "cell_type": "code",
   "execution_count": null,
   "metadata": {},
   "outputs": [],
   "source": [
    "import pandas as pd\n",
    "import numpy as np"
   ]
  },
  {
   "cell_type": "code",
   "execution_count": null,
   "metadata": {},
   "outputs": [],
   "source": [
    "# vod_movie.head()"
   ]
  },
  {
   "cell_type": "markdown",
   "metadata": {},
   "source": [
    "##### 1. 시간에 따른 VOD 시청 분석의 경우 \n",
    "###### - channel data와 vod 시청 데이터를 바탕으로 시간대별 시청 장르를 분석해서 장르를 기반으로 시간대별 컨텐츠 추천"
   ]
  },
  {
   "cell_type": "markdown",
   "metadata": {},
   "source": [
    "###### - 소분류를 tmdb에서 가지고 오기"
   ]
  },
  {
   "cell_type": "markdown",
   "metadata": {},
   "source": [
    "1. 시간대별 시청 장르 확인 - 영화"
   ]
  },
  {
   "cell_type": "code",
   "execution_count": null,
   "metadata": {},
   "outputs": [],
   "source": [
    "vod_movie = pd.read_csv('./LG_data/01. 전처리/vod_movie_전처리_19.csv', encoding= 'cp949')\n",
    "\n",
    "vod_movie.drop(columns= 'Unnamed: 0', axis= 1, inplace= True)\n",
    "vod_movie.drop(vod_movie[vod_movie['genre_of_ct_cl'] == '성인'].index, axis=0, inplace=True)"
   ]
  },
  {
   "cell_type": "code",
   "execution_count": null,
   "metadata": {},
   "outputs": [],
   "source": [
    "# 'strt_dt' 열에서 시간 정보를 추출합니다.\n",
    "vod_movie['hour'] = pd.to_datetime(vod_movie['strt_dt'], format = \"%Y%m%d%H%M%S\").dt.hour"
   ]
  },
  {
   "cell_type": "code",
   "execution_count": null,
   "metadata": {},
   "outputs": [],
   "source": [
    "# vod_movie['hour']"
   ]
  },
  {
   "cell_type": "code",
   "execution_count": null,
   "metadata": {},
   "outputs": [],
   "source": [
    "def grouping_hour(hour) :\n",
    "    if 0 <= hour <= 5 :\n",
    "        hour = '오전 12시~오전 6시'\n",
    "    elif 6 <= hour <= 8 :\n",
    "        hour = '오전 6시~오전 9시'\n",
    "    elif 9 <= hour <= 11 :\n",
    "        hour = '오전 9시~오후 12시'\n",
    "    elif 12 <= hour <= 14 :\n",
    "        hour = '오후 12시~오후 3시'\n",
    "    elif 15 <= hour <= 17 :\n",
    "        hour = '오후 3시~오후 6시'\n",
    "    elif 18 <= hour <= 20 :\n",
    "        hour = '오후 6시~오후 9시'\n",
    "    elif 21 <= hour <= 24 :\n",
    "        hour = '오후 9시~오후 12시'\n",
    "    else :\n",
    "        hour = np.nan\n",
    "    return hour"
   ]
  },
  {
   "cell_type": "code",
   "execution_count": null,
   "metadata": {},
   "outputs": [],
   "source": [
    "vod_movie['hour_label'] = vod_movie['hour'].apply(grouping_hour)\n",
    "vod_movie['hour_label']"
   ]
  },
  {
   "cell_type": "code",
   "execution_count": null,
   "metadata": {},
   "outputs": [],
   "source": [
    "# 시간에 따른 데이터를 그룹화하고 각 그룹에서 'genre_of_ct_cl' 열의 값에 대한 빈도를 계산합니다.\n",
    "genre_counts_by_hour = vod_movie.groupby('hour_label')['genre_of_ct_cl'].value_counts().unstack(fill_value=0)\n",
    "\n",
    "# 각 그룹에서 장르의 비율을 계산합니다.\n",
    "genre_percentage_by_hour = genre_counts_by_hour.div(genre_counts_by_hour.sum(axis=1), axis=0)\n",
    "\n",
    "# 결과 출력\n",
    "print(genre_percentage_by_hour)"
   ]
  },
  {
   "cell_type": "code",
   "execution_count": null,
   "metadata": {},
   "outputs": [],
   "source": [
    "# genre_percentage_by_hour"
   ]
  },
  {
   "cell_type": "code",
   "execution_count": null,
   "metadata": {},
   "outputs": [],
   "source": [
    "#  시간대별 장르가 차지하는 비율을 Pie 차트로 그리기\n",
    "fig, axes = plt.subplots(nrows=3, ncols=3, figsize=(15, 15))\n",
    "\n",
    "for i, (hour, data) in enumerate(genre_percentage_by_hour.iterrows()):\n",
    "    ax = axes[i // 3, i % 3]\n",
    "    ax.pie(data, labels=data.index, autopct='%1.1f%%', startangle=90)\n",
    "    ax.set_title(f'Hour {hour}')\n",
    "\n",
    "plt.tight_layout()\n",
    "plt.show()"
   ]
  }
 ],
 "metadata": {
  "language_info": {
   "name": "python"
  }
 },
 "nbformat": 4,
 "nbformat_minor": 2
}
